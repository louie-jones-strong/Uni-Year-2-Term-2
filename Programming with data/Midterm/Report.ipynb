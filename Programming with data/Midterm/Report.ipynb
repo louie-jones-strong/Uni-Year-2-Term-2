{
 "cells": [
  {
   "cell_type": "markdown",
   "metadata": {},
   "source": [
    "Mid term Report title\n"
   ]
  },
  {
   "cell_type": "code",
   "execution_count": 90,
   "metadata": {},
   "outputs": [],
   "source": [
    "#import \n",
    "import snscrape.modules.twitter as sntwitter\n",
    "import pandas as pd\n",
    "import json\n",
    "import os"
   ]
  },
  {
   "cell_type": "code",
   "execution_count": 91,
   "metadata": {},
   "outputs": [],
   "source": [
    "#Scope Limits\n",
    "StartTime = \"2012-05-01\"\n",
    "EndTime = \"2022-05-01\"\n",
    "TweetLimit = 100"
   ]
  },
  {
   "cell_type": "code",
   "execution_count": 96,
   "metadata": {},
   "outputs": [],
   "source": [
    "#what users do we care about\n",
    "\n",
    "# names from\n",
    "# https://en.wikipedia.org/wiki/List_of_most-followed_Twitter_accounts\n",
    "\n",
    "with open(\"TwitterUserNames.json\", \"r\") as file:\n",
    "\tusernames = json.load(file)"
   ]
  },
  {
   "cell_type": "code",
   "execution_count": 108,
   "metadata": {},
   "outputs": [],
   "source": [
    "#get tweets from users\n",
    "def GetTweetsFromUser(username):\n",
    "\n",
    "\tif not os.path.isdir(\"CachedTweets\"):\n",
    "\t\tos.mkdir(\"CachedTweets\")\n",
    "\tcachePath = os.path.join(\"CachedTweets\", \"tweets_\" + username + \".csv\")\n",
    "\n",
    "\t# cache exists\n",
    "\tif os.path.exists(cachePath):\n",
    "\t\tdf = pd.read_csv(cachePath)\n",
    "\n",
    "\telse:\n",
    "\t\tquery = \"(from:\" + username + \") since: \" + StartTime + \" until: \" + EndTime\n",
    "\n",
    "\t\ttweets = []\n",
    "\t\tfor tweet in sntwitter.TwitterSearchScraper(query).get_items():\n",
    "\n",
    "\t\t\tif len(tweets) == TweetLimit:\n",
    "\t\t\t\tbreak\n",
    "\t\t\telse:\n",
    "\t\t\t\t# print(tweet.json())\n",
    "\t\t\t\t#break\n",
    "\t\t\t\ttweets.append([tweet.date, tweet.user.username, tweet.content, tweet.replyCount, tweet.retweetCount, tweet.likeCount, tweet.quoteCount, tweet.id])\n",
    "\t\t\n",
    "\t\tdf = pd.DataFrame(tweets, columns=['Date', 'User', 'Content', 'ReplyCount', 'RetweetCount', 'LikeCount', 'QuoteCount', 'TweetID'])\n",
    "\n",
    "\t\t# to save to csv as a cache\n",
    "\t\tdf.to_csv(cachePath)\n",
    "\t\n",
    "\n",
    "\treturn df"
   ]
  },
  {
   "cell_type": "code",
   "execution_count": 109,
   "metadata": {},
   "outputs": [],
   "source": [
    "for username in usernames:\n",
    "\ttweetsDf = GetTweetsFromUser(username)\n"
   ]
  }
 ],
 "metadata": {
  "interpreter": {
   "hash": "6e03891b53087abc58e95159b2c70e6ab6b812f7c74a522802c5c9765390d0ed"
  },
  "kernelspec": {
   "display_name": "Python 3.10.4 64-bit",
   "language": "python",
   "name": "python3"
  },
  "language_info": {
   "codemirror_mode": {
    "name": "ipython",
    "version": 3
   },
   "file_extension": ".py",
   "mimetype": "text/x-python",
   "name": "python",
   "nbconvert_exporter": "python",
   "pygments_lexer": "ipython3",
   "version": "3.10.4"
  },
  "orig_nbformat": 4
 },
 "nbformat": 4,
 "nbformat_minor": 2
}
