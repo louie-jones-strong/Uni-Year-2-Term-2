{
 "cells": [
  {
   "cell_type": "markdown",
   "metadata": {},
   "source": [
    "Mid term Report title\n"
   ]
  },
  {
   "cell_type": "code",
   "execution_count": 1,
   "metadata": {},
   "outputs": [],
   "source": [
    "#import\n",
    "import yfinance as yf\n",
    "import snscrape.modules.twitter as sntwitter\n",
    "import pandas as pd\n",
    "import json\n",
    "import os"
   ]
  },
  {
   "cell_type": "code",
   "execution_count": 2,
   "metadata": {},
   "outputs": [],
   "source": [
    "#Scope Limits\n",
    "StartTime = \"2012-05-01\"\n",
    "EndTime = \"2022-05-01\"\n",
    "TweetLimit = 100\n",
    "\n",
    "TweetCacheFolder = \"CachedTweets\"\n",
    "StockCacheFolder = \"CachedStockData\""
   ]
  },
  {
   "cell_type": "markdown",
   "metadata": {},
   "source": [
    "Collect Twitter Data"
   ]
  },
  {
   "cell_type": "code",
   "execution_count": 3,
   "metadata": {},
   "outputs": [],
   "source": [
    "#what users do we care about\n",
    "\n",
    "# names from\n",
    "# https://en.wikipedia.org/wiki/List_of_most-followed_Twitter_accounts\n",
    "\n",
    "with open(\"TwitterUserNames.json\", \"r\") as file:\n",
    "\tusernames = json.load(file)"
   ]
  },
  {
   "cell_type": "code",
   "execution_count": 4,
   "metadata": {},
   "outputs": [],
   "source": [
    "#get tweets from users\n",
    "def GetTweetsFromUser(username):\n",
    "\n",
    "\tif not os.path.isdir(TweetCacheFolder):\n",
    "\t\tos.mkdir(TweetCacheFolder)\n",
    "\n",
    "\tcachePath = os.path.join(TweetCacheFolder, \"tweets_\" + username + \".csv\")\n",
    "\n",
    "\t# cache exists\n",
    "\tif os.path.exists(cachePath):\n",
    "\t\tdf = pd.read_csv(cachePath)\n",
    "\n",
    "\telse:\n",
    "\t\tquery = \"(from:\" + username + \") since:\" + StartTime + \" until:\" + EndTime\n",
    "\t\t\n",
    "\t\ttweets = []\n",
    "\t\tfor tweet in sntwitter.TwitterSearchScraper(query).get_items():\n",
    "\n",
    "\t\t\tif len(tweets) == TweetLimit:\n",
    "\t\t\t\tbreak\n",
    "\t\t\telse:\n",
    "\t\t\t\t# print(tweet.json())\n",
    "\t\t\t\t#break\n",
    "\t\t\t\ttweets.append([tweet.date, tweet.user.username, tweet.content, tweet.replyCount, tweet.retweetCount, tweet.likeCount, tweet.quoteCount, tweet.id])\n",
    "\t\t\n",
    "\t\tdf = pd.DataFrame(tweets, columns=['Date', 'User', 'Content', 'ReplyCount', 'RetweetCount', 'LikeCount', 'QuoteCount', 'TweetID'])\n",
    "\n",
    "\t\t# to save to csv as a cache\n",
    "\t\tdf.to_csv(cachePath)\n",
    "\t\n",
    "\n",
    "\treturn df\n",
    "\n",
    "tweetsDf = GetTweetsFromUser(usernames[0])"
   ]
  },
  {
   "cell_type": "code",
   "execution_count": 6,
   "metadata": {},
   "outputs": [],
   "source": [
    "for username in usernames:\n",
    "\ttweetsDf = GetTweetsFromUser(username)\n"
   ]
  },
  {
   "cell_type": "markdown",
   "metadata": {},
   "source": [
    "Collect Stock Market Data"
   ]
  },
  {
   "cell_type": "code",
   "execution_count": 7,
   "metadata": {},
   "outputs": [],
   "source": [
    "#load stocks to track\n",
    "with open(\"StockTags_SnP.json\", \"r\") as file:\n",
    "\tstockTags = json.load(file)"
   ]
  },
  {
   "cell_type": "code",
   "execution_count": 8,
   "metadata": {},
   "outputs": [],
   "source": [
    "def LoadStockData(stockTag):\n",
    "\n",
    "\tif not os.path.isdir(StockCacheFolder):\n",
    "\t\tos.mkdir(StockCacheFolder)\n",
    "\n",
    "\tcachePath = os.path.join(StockCacheFolder, \"Stock_\" + stockTag + \".csv\")\n",
    "\n",
    "\t# cache exists\n",
    "\tif os.path.exists(cachePath):\n",
    "\t\tdf = pd.read_csv(cachePath)\n",
    "\n",
    "\tif not os.path.exists(cachePath):\n",
    "\t\tstock = yf.Ticker(stockTag)\n",
    "\n",
    "\t\thistData = stock.history(period=\"max\")\n",
    "\n",
    "\t\t#save data to local cache file\n",
    "\t\thistData.to_csv(cachePath, index=False)\n",
    "\telse:\n",
    "\n",
    "\t\thistData = pd.read_csv(cachePath)\n",
    "\n",
    "\treturn histData"
   ]
  },
  {
   "cell_type": "code",
   "execution_count": 9,
   "metadata": {},
   "outputs": [
    {
     "ename": "NameError",
     "evalue": "name 'StockCacheFolder' is not defined",
     "output_type": "error",
     "traceback": [
      "\u001b[1;31m---------------------------------------------------------------------------\u001b[0m",
      "\u001b[1;31mNameError\u001b[0m                                 Traceback (most recent call last)",
      "\u001b[1;32mc:\\Users\\louie.jonesstrong\\Documents\\Git\\Uni-Year-2-Term-2\\Programming with data\\Midterm\\Report.ipynb Cell 11'\u001b[0m in \u001b[0;36m<cell line: 1>\u001b[1;34m()\u001b[0m\n\u001b[0;32m      <a href='vscode-notebook-cell:/c%3A/Users/louie.jonesstrong/Documents/Git/Uni-Year-2-Term-2/Programming%20with%20data/Midterm/Report.ipynb#ch0000021?line=0'>1</a>\u001b[0m \u001b[39mfor\u001b[39;00m stockTag \u001b[39min\u001b[39;00m stockTags:\n\u001b[1;32m----> <a href='vscode-notebook-cell:/c%3A/Users/louie.jonesstrong/Documents/Git/Uni-Year-2-Term-2/Programming%20with%20data/Midterm/Report.ipynb#ch0000021?line=1'>2</a>\u001b[0m \tLoadStockData(stockTag)\n",
      "\u001b[1;32mc:\\Users\\louie.jonesstrong\\Documents\\Git\\Uni-Year-2-Term-2\\Programming with data\\Midterm\\Report.ipynb Cell 10'\u001b[0m in \u001b[0;36mLoadStockData\u001b[1;34m(stockTag)\u001b[0m\n\u001b[0;32m      <a href='vscode-notebook-cell:/c%3A/Users/louie.jonesstrong/Documents/Git/Uni-Year-2-Term-2/Programming%20with%20data/Midterm/Report.ipynb#ch0000019?line=0'>1</a>\u001b[0m \u001b[39mdef\u001b[39;00m \u001b[39mLoadStockData\u001b[39m(stockTag):\n\u001b[1;32m----> <a href='vscode-notebook-cell:/c%3A/Users/louie.jonesstrong/Documents/Git/Uni-Year-2-Term-2/Programming%20with%20data/Midterm/Report.ipynb#ch0000019?line=2'>3</a>\u001b[0m \t\u001b[39mif\u001b[39;00m \u001b[39mnot\u001b[39;00m os\u001b[39m.\u001b[39mpath\u001b[39m.\u001b[39misdir(StockCacheFolder):\n\u001b[0;32m      <a href='vscode-notebook-cell:/c%3A/Users/louie.jonesstrong/Documents/Git/Uni-Year-2-Term-2/Programming%20with%20data/Midterm/Report.ipynb#ch0000019?line=3'>4</a>\u001b[0m \t\tos\u001b[39m.\u001b[39mmkdir(StockCacheFolder)\n\u001b[0;32m      <a href='vscode-notebook-cell:/c%3A/Users/louie.jonesstrong/Documents/Git/Uni-Year-2-Term-2/Programming%20with%20data/Midterm/Report.ipynb#ch0000019?line=5'>6</a>\u001b[0m \tcachePath \u001b[39m=\u001b[39m os\u001b[39m.\u001b[39mpath\u001b[39m.\u001b[39mjoin(StockCacheFolder, \u001b[39m\"\u001b[39m\u001b[39mStock_\u001b[39m\u001b[39m\"\u001b[39m \u001b[39m+\u001b[39m stockTag \u001b[39m+\u001b[39m \u001b[39m\"\u001b[39m\u001b[39m.csv\u001b[39m\u001b[39m\"\u001b[39m)\n",
      "\u001b[1;31mNameError\u001b[0m: name 'StockCacheFolder' is not defined"
     ]
    }
   ],
   "source": [
    "\n",
    "for stockTag in stockTags:\n",
    "\tLoadStockData(stockTag)\n"
   ]
  }
 ],
 "metadata": {
  "interpreter": {
   "hash": "6e03891b53087abc58e95159b2c70e6ab6b812f7c74a522802c5c9765390d0ed"
  },
  "kernelspec": {
   "display_name": "Python 3.10.4 64-bit",
   "language": "python",
   "name": "python3"
  },
  "language_info": {
   "codemirror_mode": {
    "name": "ipython",
    "version": 3
   },
   "file_extension": ".py",
   "mimetype": "text/x-python",
   "name": "python",
   "nbconvert_exporter": "python",
   "pygments_lexer": "ipython3",
   "version": "3.10.4"
  },
  "orig_nbformat": 4
 },
 "nbformat": 4,
 "nbformat_minor": 2
}
