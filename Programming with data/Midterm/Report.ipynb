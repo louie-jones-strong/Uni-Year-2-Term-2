{
 "cells": [
  {
   "cell_type": "markdown",
   "metadata": {},
   "source": [
    "Mid term Report title\n"
   ]
  },
  {
   "cell_type": "code",
   "execution_count": null,
   "metadata": {},
   "outputs": [],
   "source": [
    "import json\n",
    "import requests\n",
    "import pandas as pd"
   ]
  },
  {
   "cell_type": "code",
   "execution_count": null,
   "metadata": {},
   "outputs": [],
   "source": [
    "\n",
    "twitterCredentialsPath = \"TwitterCredentials.json\"\n",
    "\n",
    "with open(twitterCredentialsPath, \"r\") as read_file:\n",
    "\tcredentials = json.load(read_file)"
   ]
  },
  {
   "cell_type": "code",
   "execution_count": null,
   "metadata": {},
   "outputs": [],
   "source": [
    "def GetUserTweets(userId):\n",
    "\tresponse = requests.get(\"https://api.twitter.com/2/users/\"+userId+\"/tweets\", headers={\"Authorization\":\"Bearer \"+credentials[\"bearer_token\"]})\n",
    "\ttweets_data = response.json()\n",
    "\n",
    "\treturn tweets_data"
   ]
  },
  {
   "cell_type": "code",
   "execution_count": null,
   "metadata": {},
   "outputs": [],
   "source": [
    "userId = GetTwitterIdsFromUsernames([\"code\"])"
   ]
  },
  {
   "cell_type": "code",
   "execution_count": null,
   "metadata": {},
   "outputs": [],
   "source": [
    "df = pd.DataFrame(tweets_data, columns=header_cols)\n",
    "df.head()"
   ]
  },
  {
   "cell_type": "code",
   "execution_count": 63,
   "metadata": {},
   "outputs": [],
   "source": [
    "import snscrape.modules.twitter as sntwitter\n",
    "import pandas as pd"
   ]
  },
  {
   "cell_type": "code",
   "execution_count": 64,
   "metadata": {},
   "outputs": [
    {
     "name": "stdout",
     "output_type": "stream",
     "text": [
      "                          Date      User  \\\n",
      "0    2019-12-31 21:37:06+00:00  elonmusk   \n",
      "1    2019-12-31 06:59:34+00:00  elonmusk   \n",
      "2    2019-12-31 06:57:57+00:00  elonmusk   \n",
      "3    2019-12-31 02:27:28+00:00  elonmusk   \n",
      "4    2019-12-30 23:27:10+00:00  elonmusk   \n",
      "...                        ...       ...   \n",
      "4995 2018-03-23 16:09:16+00:00  elonmusk   \n",
      "4996 2018-03-23 16:03:14+00:00  elonmusk   \n",
      "4997 2018-03-23 16:01:55+00:00  elonmusk   \n",
      "4998 2018-03-23 15:54:12+00:00  elonmusk   \n",
      "4999 2018-03-23 15:48:36+00:00  elonmusk   \n",
      "\n",
      "                                                  Tweet  \n",
      "0             @engineers_feed @physicsJ It’s a bit slow  \n",
      "1                     @JohnnaCrider1 It’s not ready yet  \n",
      "2                            @newscientist Explains 🐈 🎥  \n",
      "3     @teslaownersSV @rhoehn Thanks all Tesla club m...  \n",
      "4         Rest in peace Syd Mead. Your art will endure.  \n",
      "...                                                 ...  \n",
      "4995  @sathish4vy @brianacton Maybe that word doesn’...  \n",
      "4996  @jiveDurkey @SpaceX @facebook Literally never ...  \n",
      "4997  @OfficeOfOMAR Yeah, it’s borderline. FB influe...  \n",
      "4998  @serdarsprofile @brianacton I didn’t realize t...  \n",
      "4999  @sathish4vy @brianacton Inconceivable! Who’d s...  \n",
      "\n",
      "[5000 rows x 3 columns]\n"
     ]
    }
   ],
   "source": [
    "query = \"(from:elonmusk) until:2020-01-01 since:2010-01-01\"\n",
    "tweets = []\n",
    "limit = 5000\n",
    "\n",
    "\n",
    "for tweet in sntwitter.TwitterSearchScraper(query).get_items():\n",
    "    \n",
    "    # print(vars(tweet))\n",
    "    # break\n",
    "    if len(tweets) == limit:\n",
    "        break\n",
    "    else:\n",
    "        tweets.append([tweet.date, tweet.user.username, tweet.content])\n",
    "        \n",
    "df = pd.DataFrame(tweets, columns=['Date', 'User', 'Tweet'])\n",
    "print(df)\n",
    "\n",
    "# to save to csv\n",
    "df.to_csv('tweets.csv')"
   ]
  }
 ],
 "metadata": {
  "interpreter": {
   "hash": "6e03891b53087abc58e95159b2c70e6ab6b812f7c74a522802c5c9765390d0ed"
  },
  "kernelspec": {
   "display_name": "Python 3.10.4 64-bit",
   "language": "python",
   "name": "python3"
  },
  "language_info": {
   "codemirror_mode": {
    "name": "ipython",
    "version": 3
   },
   "file_extension": ".py",
   "mimetype": "text/x-python",
   "name": "python",
   "nbconvert_exporter": "python",
   "pygments_lexer": "ipython3",
   "version": "3.10.4"
  },
  "orig_nbformat": 4
 },
 "nbformat": 4,
 "nbformat_minor": 2
}
