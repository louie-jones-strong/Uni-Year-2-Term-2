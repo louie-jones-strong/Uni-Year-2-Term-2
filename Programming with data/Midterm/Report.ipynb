{
 "cells": [
  {
   "cell_type": "markdown",
   "metadata": {},
   "source": [
    "Mid term Report title\n"
   ]
  },
  {
   "cell_type": "code",
   "execution_count": 1,
   "metadata": {},
   "outputs": [],
   "source": [
    "#import needed scripts\n",
    "import tweepy\n",
    "import json"
   ]
  },
  {
   "cell_type": "code",
   "execution_count": 2,
   "metadata": {},
   "outputs": [],
   "source": [
    "\n",
    "twitterCredentialsPath = \"TwitterCredentials.json\"\n",
    "\n",
    "with open(twitterCredentialsPath, \"r\") as read_file:\n",
    "    credentials = json.load(read_file)"
   ]
  },
  {
   "cell_type": "code",
   "execution_count": 29,
   "metadata": {},
   "outputs": [],
   "source": [
    "#authentication\n",
    "auth = tweepy.Client(\n",
    "\tcredentials[\"api_key\"], credentials[\"api_key_secret\"],\n",
    "\tcredentials[\"consumer_key\"], credentials[\"consumer_secret\"], type(dict))\n",
    "api = tweepy.API(auth)"
   ]
  },
  {
   "cell_type": "code",
   "execution_count": 30,
   "metadata": {},
   "outputs": [
    {
     "ename": "AttributeError",
     "evalue": "'Client' object has no attribute 'get_me'",
     "output_type": "error",
     "traceback": [
      "\u001b[1;31m---------------------------------------------------------------------------\u001b[0m",
      "\u001b[1;31mAttributeError\u001b[0m                            Traceback (most recent call last)",
      "\u001b[1;32mc:\\Users\\louie.jonesstrong\\Documents\\Git\\Uni-Year-2-Term-2\\Programming with data\\Midterm\\Report.ipynb Cell 5'\u001b[0m in \u001b[0;36m<cell line: 1>\u001b[1;34m()\u001b[0m\n\u001b[1;32m----> <a href='vscode-notebook-cell:/c%3A/Users/louie.jonesstrong/Documents/Git/Uni-Year-2-Term-2/Programming%20with%20data/Midterm/Report.ipynb#ch0000008?line=0'>1</a>\u001b[0m auth\u001b[39m.\u001b[39;49mget_me()\n",
      "\u001b[1;31mAttributeError\u001b[0m: 'Client' object has no attribute 'get_me'"
     ]
    }
   ],
   "source": [
    "auth.get_me()"
   ]
  },
  {
   "cell_type": "code",
   "execution_count": null,
   "metadata": {},
   "outputs": [
    {
     "ename": "AttributeError",
     "evalue": "'API' object has no attribute 'get_users_mentions'",
     "output_type": "error",
     "traceback": [
      "\u001b[1;31m---------------------------------------------------------------------------\u001b[0m",
      "\u001b[1;31mAttributeError\u001b[0m                            Traceback (most recent call last)",
      "\u001b[1;32mc:\\Users\\louie.jonesstrong\\Documents\\Git\\Uni-Year-2-Term-2\\Programming with data\\Midterm\\Report.ipynb Cell 6'\u001b[0m in \u001b[0;36m<cell line: 9>\u001b[1;34m()\u001b[0m\n\u001b[0;32m      <a href='vscode-notebook-cell:/c%3A/Users/louie.jonesstrong/Documents/Git/Uni-Year-2-Term-2/Programming%20with%20data/Midterm/Report.ipynb#ch0000009?line=4'>5</a>\u001b[0m auth\u001b[39m.\u001b[39mset_access_token(credentials[\u001b[39m\"\u001b[39m\u001b[39mconsumer_key\u001b[39m\u001b[39m\"\u001b[39m], credentials[\u001b[39m\"\u001b[39m\u001b[39mconsumer_secret\u001b[39m\u001b[39m\"\u001b[39m])\n\u001b[0;32m      <a href='vscode-notebook-cell:/c%3A/Users/louie.jonesstrong/Documents/Git/Uni-Year-2-Term-2/Programming%20with%20data/Midterm/Report.ipynb#ch0000009?line=6'>7</a>\u001b[0m api \u001b[39m=\u001b[39m tweepy\u001b[39m.\u001b[39mAPI(auth)\n\u001b[1;32m----> <a href='vscode-notebook-cell:/c%3A/Users/louie.jonesstrong/Documents/Git/Uni-Year-2-Term-2/Programming%20with%20data/Midterm/Report.ipynb#ch0000009?line=8'>9</a>\u001b[0m public_tweets \u001b[39m=\u001b[39m api\u001b[39m.\u001b[39;49mget_users_mentions(\u001b[39m\"\u001b[39m\u001b[39mcode\u001b[39m\u001b[39m\"\u001b[39m)\n",
      "\u001b[1;31mAttributeError\u001b[0m: 'API' object has no attribute 'get_users_mentions'"
     ]
    }
   ],
   "source": [
    "import tweepy\n",
    "\n",
    "auth = tweepy.OAuthHandler(credentials[\"api_key\"], credentials[\"api_key_secret\"])\n",
    "\n",
    "auth.set_access_token(credentials[\"consumer_key\"], credentials[\"consumer_secret\"])\n",
    "\n",
    "api = tweepy.API(auth)\n",
    "\n",
    "public_tweets = api.get_users_mentions(\"code\")"
   ]
  },
  {
   "cell_type": "code",
   "execution_count": 32,
   "metadata": {},
   "outputs": [
    {
     "name": "stdout",
     "output_type": "stream",
     "text": [
      "401\n"
     ]
    }
   ],
   "source": [
    "import requests\n",
    "r =requests.get(\"https://api.twitter.com/2/users/by?usernames=code&user.fields=id\", headers={\"Authorization\":\"Bearer \"+credentials[\"bearer_token\"]})\n",
    "print(r.status_code)"
   ]
  }
 ],
 "metadata": {
  "interpreter": {
   "hash": "6e03891b53087abc58e95159b2c70e6ab6b812f7c74a522802c5c9765390d0ed"
  },
  "kernelspec": {
   "display_name": "Python 3.10.4 64-bit",
   "language": "python",
   "name": "python3"
  },
  "language_info": {
   "codemirror_mode": {
    "name": "ipython",
    "version": 3
   },
   "file_extension": ".py",
   "mimetype": "text/x-python",
   "name": "python",
   "nbconvert_exporter": "python",
   "pygments_lexer": "ipython3",
   "version": "3.10.4"
  },
  "orig_nbformat": 4
 },
 "nbformat": 4,
 "nbformat_minor": 2
}
